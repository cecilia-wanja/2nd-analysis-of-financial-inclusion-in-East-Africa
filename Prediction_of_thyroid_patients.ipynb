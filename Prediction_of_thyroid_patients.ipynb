{
  "nbformat": 4,
  "nbformat_minor": 0,
  "metadata": {
    "colab": {
      "name": "Prediction of thyroid patients.ipynb",
      "provenance": [],
      "collapsed_sections": [],
      "include_colab_link": true
    },
    "kernelspec": {
      "name": "python3",
      "display_name": "Python 3"
    },
    "accelerator": "GPU"
  },
  "cells": [
    {
      "cell_type": "markdown",
      "metadata": {
        "id": "view-in-github",
        "colab_type": "text"
      },
      "source": [
        "<a href=\"https://colab.research.google.com/github/cecilia-wanja/2nd-analysis-of-financial-inclusion-in-East-Africa/blob/master/Prediction_of_thyroid_patients.ipynb\" target=\"_parent\"><img src=\"https://colab.research.google.com/assets/colab-badge.svg\" alt=\"Open In Colab\"/></a>"
      ]
    },
    {
      "cell_type": "markdown",
      "metadata": {
        "id": "IAfwmmdHK1EY",
        "colab_type": "text"
      },
      "source": [
        "# QUESTION\n",
        "Nairobi Hospital conducted a clinical camp to test for hypothyroidism. The data collected focused on Thyroid patients. \n",
        "I will build a model that determines whether or not the patient's symptoms indicate that the patient has hypothyroid.\n",
        "\n"
      ]
    },
    {
      "cell_type": "markdown",
      "metadata": {
        "id": "w7dYyNogONIf",
        "colab_type": "text"
      },
      "source": [
        "# METRICS OF SUCCESS\n"
      ]
    },
    {
      "cell_type": "markdown",
      "metadata": {
        "id": "Vlo8fkk9OZnE",
        "colab_type": "text"
      },
      "source": [
        "# CONTEXT\n",
        "We have been provided for the following columns in the dataset;\n",
        "1. Age\n",
        "2. Sex\n",
        "3. on_thyroxine\n",
        "4. query_on_thyroxine\n",
        "5. on_antithyroid_medicationthyroid_surgery\n",
        "6. query_hypothyroid\n",
        "7. query_hyperthyroid\n",
        "8. pregnant\n",
        "9. sick\n",
        "10. tumor\n",
        "11. lithium\n",
        "12. goitre\n",
        "13. TSH_measured\n",
        "14. TSH\n",
        "15. T3_measured\n",
        "16. T3\n",
        "17. TT4_measured\n",
        "18. TT4\n",
        "\n",
        "A simpler overview on the meaning of some terms portrayed above:\n",
        "Thyroxine is the main hormone secreted into the bloodstream by the thyroid gland.\n",
        "\n",
        "on_antithyroid_medicationthyroid_surgery is the column that shows the number of patients who are undergoing surgery to cure the disease.\n",
        "\n",
        "query_hypothyroid shows the number of patients who's thyroid gland is unaderactive.\n",
        "\n",
        "query_hyperthyroid shows the number of patients who's thyroid gland is hyperactive.\n",
        "\n",
        "lithium shows the number of patients who have this component that can cause goitre and hypothhyroidsm.\n",
        "\n",
        "goitre shows the number of people with either overproductive or underproductive thyroid glands.\n",
        "\n",
        "TSH measured is a test done to find out whether the thyroid gland is working the way it should.\n",
        "\n",
        "TSH is a test to find out the amount of hormone produces.\n",
        "\n",
        "T3 & T4 are the major hormones produced by the thyroid glands.\n",
        "Normal T3 ranges from 4.6 to 11.2.\n",
        "Normal T4 should range from 5.0 to 12.0\n"
      ]
    },
    {
      "cell_type": "markdown",
      "metadata": {
        "id": "8rX2KwtdOvCn",
        "colab_type": "text"
      },
      "source": [
        "# EXPERIMENTAL DESIGN"
      ]
    },
    {
      "cell_type": "markdown",
      "metadata": {
        "id": "p_QYOg3EO2_0",
        "colab_type": "text"
      },
      "source": [
        "# APPROPRIATENESS OF THE DATA"
      ]
    },
    {
      "cell_type": "code",
      "metadata": {
        "id": "OuWHF-NHLHRE",
        "colab_type": "code",
        "colab": {}
      },
      "source": [
        ""
      ],
      "execution_count": 0,
      "outputs": []
    },
    {
      "cell_type": "markdown",
      "metadata": {
        "id": "Nw2Ky7LiptZO",
        "colab_type": "text"
      },
      "source": [
        "# Loading Our Data"
      ]
    },
    {
      "cell_type": "code",
      "metadata": {
        "id": "M9m1WFrmqc_E",
        "colab_type": "code",
        "colab": {}
      },
      "source": [
        "#importing our necessary libraries\n",
        "import pandas as pd\n",
        "#allows us to organize data in tabular form\n",
        "import numpy as np\n",
        "#numpy allows us to work with multi dimensional arrays\n",
        "import scipy\n",
        "#scipy-a python ecosystem used for mathematics, machine learning \n",
        "import matplotlib.pyplot as plt\n",
        "#matplotlib-a 2D library for plotting numpy computations\n",
        "import seaborn as sns\n",
        "#seaborn-a python visualization based on matplotlib, helps in drawing attractive statistical graphics\n",
        "import sklearn\n",
        "#sklearn-used for machine learning, \n",
        "%matplotlib inline\n",
        "#for visualization \n",
        "import statsmodels.api as sm\n",
        "#statsmodel-used to run regression"
      ],
      "execution_count": 0,
      "outputs": []
    },
    {
      "cell_type": "code",
      "metadata": {
        "id": "1VzJ0CeXp014",
        "colab_type": "code",
        "colab": {
          "base_uri": "https://localhost:8080/",
          "height": 217
        },
        "outputId": "a4dcc203-8b78-4ca5-8c4d-e3d98c8ddd25"
      },
      "source": [
        "#previewing the first five rows of our dataset.\n",
        "df = pd.read_csv(\"hypothyroid.csv\")\n",
        "df.head()"
      ],
      "execution_count": 3,
      "outputs": [
        {
          "output_type": "execute_result",
          "data": {
            "text/html": [
              "<div>\n",
              "<style scoped>\n",
              "    .dataframe tbody tr th:only-of-type {\n",
              "        vertical-align: middle;\n",
              "    }\n",
              "\n",
              "    .dataframe tbody tr th {\n",
              "        vertical-align: top;\n",
              "    }\n",
              "\n",
              "    .dataframe thead th {\n",
              "        text-align: right;\n",
              "    }\n",
              "</style>\n",
              "<table border=\"1\" class=\"dataframe\">\n",
              "  <thead>\n",
              "    <tr style=\"text-align: right;\">\n",
              "      <th></th>\n",
              "      <th>status</th>\n",
              "      <th>age</th>\n",
              "      <th>sex</th>\n",
              "      <th>on_thyroxine</th>\n",
              "      <th>query_on_thyroxine</th>\n",
              "      <th>on_antithyroid_medication</th>\n",
              "      <th>thyroid_surgery</th>\n",
              "      <th>query_hypothyroid</th>\n",
              "      <th>query_hyperthyroid</th>\n",
              "      <th>pregnant</th>\n",
              "      <th>sick</th>\n",
              "      <th>tumor</th>\n",
              "      <th>lithium</th>\n",
              "      <th>goitre</th>\n",
              "      <th>TSH_measured</th>\n",
              "      <th>TSH</th>\n",
              "      <th>T3_measured</th>\n",
              "      <th>T3</th>\n",
              "      <th>TT4_measured</th>\n",
              "      <th>TT4</th>\n",
              "      <th>T4U_measured</th>\n",
              "      <th>T4U</th>\n",
              "      <th>FTI_measured</th>\n",
              "      <th>FTI</th>\n",
              "      <th>TBG_measured</th>\n",
              "      <th>TBG</th>\n",
              "    </tr>\n",
              "  </thead>\n",
              "  <tbody>\n",
              "    <tr>\n",
              "      <th>0</th>\n",
              "      <td>hypothyroid</td>\n",
              "      <td>72</td>\n",
              "      <td>M</td>\n",
              "      <td>f</td>\n",
              "      <td>f</td>\n",
              "      <td>f</td>\n",
              "      <td>f</td>\n",
              "      <td>f</td>\n",
              "      <td>f</td>\n",
              "      <td>f</td>\n",
              "      <td>f</td>\n",
              "      <td>f</td>\n",
              "      <td>f</td>\n",
              "      <td>f</td>\n",
              "      <td>y</td>\n",
              "      <td>30</td>\n",
              "      <td>y</td>\n",
              "      <td>0.60</td>\n",
              "      <td>y</td>\n",
              "      <td>15</td>\n",
              "      <td>y</td>\n",
              "      <td>1.48</td>\n",
              "      <td>y</td>\n",
              "      <td>10</td>\n",
              "      <td>n</td>\n",
              "      <td>?</td>\n",
              "    </tr>\n",
              "    <tr>\n",
              "      <th>1</th>\n",
              "      <td>hypothyroid</td>\n",
              "      <td>15</td>\n",
              "      <td>F</td>\n",
              "      <td>t</td>\n",
              "      <td>f</td>\n",
              "      <td>f</td>\n",
              "      <td>f</td>\n",
              "      <td>f</td>\n",
              "      <td>f</td>\n",
              "      <td>f</td>\n",
              "      <td>f</td>\n",
              "      <td>f</td>\n",
              "      <td>f</td>\n",
              "      <td>f</td>\n",
              "      <td>y</td>\n",
              "      <td>145</td>\n",
              "      <td>y</td>\n",
              "      <td>1.70</td>\n",
              "      <td>y</td>\n",
              "      <td>19</td>\n",
              "      <td>y</td>\n",
              "      <td>1.13</td>\n",
              "      <td>y</td>\n",
              "      <td>17</td>\n",
              "      <td>n</td>\n",
              "      <td>?</td>\n",
              "    </tr>\n",
              "    <tr>\n",
              "      <th>2</th>\n",
              "      <td>hypothyroid</td>\n",
              "      <td>24</td>\n",
              "      <td>M</td>\n",
              "      <td>f</td>\n",
              "      <td>f</td>\n",
              "      <td>f</td>\n",
              "      <td>f</td>\n",
              "      <td>f</td>\n",
              "      <td>f</td>\n",
              "      <td>f</td>\n",
              "      <td>f</td>\n",
              "      <td>f</td>\n",
              "      <td>f</td>\n",
              "      <td>f</td>\n",
              "      <td>y</td>\n",
              "      <td>0</td>\n",
              "      <td>y</td>\n",
              "      <td>0.20</td>\n",
              "      <td>y</td>\n",
              "      <td>4</td>\n",
              "      <td>y</td>\n",
              "      <td>1</td>\n",
              "      <td>y</td>\n",
              "      <td>0</td>\n",
              "      <td>n</td>\n",
              "      <td>?</td>\n",
              "    </tr>\n",
              "    <tr>\n",
              "      <th>3</th>\n",
              "      <td>hypothyroid</td>\n",
              "      <td>24</td>\n",
              "      <td>F</td>\n",
              "      <td>f</td>\n",
              "      <td>f</td>\n",
              "      <td>f</td>\n",
              "      <td>f</td>\n",
              "      <td>f</td>\n",
              "      <td>f</td>\n",
              "      <td>f</td>\n",
              "      <td>f</td>\n",
              "      <td>f</td>\n",
              "      <td>f</td>\n",
              "      <td>f</td>\n",
              "      <td>y</td>\n",
              "      <td>430</td>\n",
              "      <td>y</td>\n",
              "      <td>0.40</td>\n",
              "      <td>y</td>\n",
              "      <td>6</td>\n",
              "      <td>y</td>\n",
              "      <td>1.04</td>\n",
              "      <td>y</td>\n",
              "      <td>6</td>\n",
              "      <td>n</td>\n",
              "      <td>?</td>\n",
              "    </tr>\n",
              "    <tr>\n",
              "      <th>4</th>\n",
              "      <td>hypothyroid</td>\n",
              "      <td>77</td>\n",
              "      <td>M</td>\n",
              "      <td>f</td>\n",
              "      <td>f</td>\n",
              "      <td>f</td>\n",
              "      <td>f</td>\n",
              "      <td>f</td>\n",
              "      <td>f</td>\n",
              "      <td>f</td>\n",
              "      <td>f</td>\n",
              "      <td>f</td>\n",
              "      <td>f</td>\n",
              "      <td>f</td>\n",
              "      <td>y</td>\n",
              "      <td>7.30</td>\n",
              "      <td>y</td>\n",
              "      <td>1.20</td>\n",
              "      <td>y</td>\n",
              "      <td>57</td>\n",
              "      <td>y</td>\n",
              "      <td>1.28</td>\n",
              "      <td>y</td>\n",
              "      <td>44</td>\n",
              "      <td>n</td>\n",
              "      <td>?</td>\n",
              "    </tr>\n",
              "  </tbody>\n",
              "</table>\n",
              "</div>"
            ],
            "text/plain": [
              "        status age sex on_thyroxine  ... FTI_measured FTI TBG_measured TBG\n",
              "0  hypothyroid  72   M            f  ...            y  10            n   ?\n",
              "1  hypothyroid  15   F            t  ...            y  17            n   ?\n",
              "2  hypothyroid  24   M            f  ...            y   0            n   ?\n",
              "3  hypothyroid  24   F            f  ...            y   6            n   ?\n",
              "4  hypothyroid  77   M            f  ...            y  44            n   ?\n",
              "\n",
              "[5 rows x 26 columns]"
            ]
          },
          "metadata": {
            "tags": []
          },
          "execution_count": 3
        }
      ]
    },
    {
      "cell_type": "markdown",
      "metadata": {
        "id": "tFRxSQSqrnGo",
        "colab_type": "text"
      },
      "source": [
        "# Cleaning"
      ]
    },
    {
      "cell_type": "code",
      "metadata": {
        "id": "VmUUJc3yqa4V",
        "colab_type": "code",
        "colab": {
          "base_uri": "https://localhost:8080/",
          "height": 34
        },
        "outputId": "6e09df72-0156-4a84-af5d-31f5011fe021"
      },
      "source": [
        "#looking at the number of rows and columns respectively in our dataset\n",
        "df.shape"
      ],
      "execution_count": 5,
      "outputs": [
        {
          "output_type": "execute_result",
          "data": {
            "text/plain": [
              "(3163, 26)"
            ]
          },
          "metadata": {
            "tags": []
          },
          "execution_count": 5
        }
      ]
    },
    {
      "cell_type": "code",
      "metadata": {
        "id": "1GzsCFS8rQAQ",
        "colab_type": "code",
        "colab": {
          "base_uri": "https://localhost:8080/",
          "height": 496
        },
        "outputId": "c4d0511e-426a-499f-f344-d4f99a96e353"
      },
      "source": [
        "#looking for any null values\n",
        "df.isnull().any()"
      ],
      "execution_count": 6,
      "outputs": [
        {
          "output_type": "execute_result",
          "data": {
            "text/plain": [
              "status                       False\n",
              "age                          False\n",
              "sex                          False\n",
              "on_thyroxine                 False\n",
              "query_on_thyroxine           False\n",
              "on_antithyroid_medication    False\n",
              "thyroid_surgery              False\n",
              "query_hypothyroid            False\n",
              "query_hyperthyroid           False\n",
              "pregnant                     False\n",
              "sick                         False\n",
              "tumor                        False\n",
              "lithium                      False\n",
              "goitre                       False\n",
              "TSH_measured                 False\n",
              "TSH                          False\n",
              "T3_measured                  False\n",
              "T3                           False\n",
              "TT4_measured                 False\n",
              "TT4                          False\n",
              "T4U_measured                 False\n",
              "T4U                          False\n",
              "FTI_measured                 False\n",
              "FTI                          False\n",
              "TBG_measured                 False\n",
              "TBG                          False\n",
              "dtype: bool"
            ]
          },
          "metadata": {
            "tags": []
          },
          "execution_count": 6
        }
      ]
    },
    {
      "cell_type": "code",
      "metadata": {
        "id": "oSlPnOlUrdTd",
        "colab_type": "code",
        "colab": {
          "base_uri": "https://localhost:8080/",
          "height": 34
        },
        "outputId": "09b62763-dbf9-4d00-cfd2-c6bfa4131a61"
      },
      "source": [
        "#looking for any duplicated data\n",
        "df.duplicated().sum()"
      ],
      "execution_count": 9,
      "outputs": [
        {
          "output_type": "execute_result",
          "data": {
            "text/plain": [
              "77"
            ]
          },
          "metadata": {
            "tags": []
          },
          "execution_count": 9
        }
      ]
    },
    {
      "cell_type": "code",
      "metadata": {
        "id": "e7xsw-tDsB5t",
        "colab_type": "code",
        "colab": {}
      },
      "source": [
        "#removing the duplicated data\n",
        "df.drop_duplicates(inplace = True)"
      ],
      "execution_count": 0,
      "outputs": []
    },
    {
      "cell_type": "code",
      "metadata": {
        "id": "X8kO4YeHsn38",
        "colab_type": "code",
        "colab": {
          "base_uri": "https://localhost:8080/",
          "height": 34
        },
        "outputId": "db632374-4e59-4f33-b834-0b90474da799"
      },
      "source": [
        "#checking whether the duplicates are still there\n",
        "df.duplicated().sum()"
      ],
      "execution_count": 11,
      "outputs": [
        {
          "output_type": "execute_result",
          "data": {
            "text/plain": [
              "0"
            ]
          },
          "metadata": {
            "tags": []
          },
          "execution_count": 11
        }
      ]
    },
    {
      "cell_type": "markdown",
      "metadata": {
        "id": "WuwtNpi3s8ul",
        "colab_type": "text"
      },
      "source": [
        "# Analysis"
      ]
    },
    {
      "cell_type": "code",
      "metadata": {
        "id": "Z15UA-ILsxmv",
        "colab_type": "code",
        "colab": {
          "base_uri": "https://localhost:8080/",
          "height": 70
        },
        "outputId": "7b395fc1-6fd7-4558-cf53-e88cbb2165e7"
      },
      "source": [
        "#finding the correlation of the columns\n",
        "correlation = df.corr()\n",
        "print(correlation)"
      ],
      "execution_count": 15,
      "outputs": [
        {
          "output_type": "stream",
          "text": [
            "Empty DataFrame\n",
            "Columns: []\n",
            "Index: []\n"
          ],
          "name": "stdout"
        }
      ]
    },
    {
      "cell_type": "markdown",
      "metadata": {
        "id": "zrALAlZQwkVx",
        "colab_type": "text"
      },
      "source": [
        "you will realise that most of the columns are in boolean form making it hard to carry out correlation."
      ]
    },
    {
      "cell_type": "code",
      "metadata": {
        "id": "T7wQlI3AyEjs",
        "colab_type": "code",
        "colab": {
          "base_uri": "https://localhost:8080/",
          "height": 187
        },
        "outputId": "8a52b88b-c94a-4b9c-be5d-95e654adece6"
      },
      "source": [
        "#showing the statistical overview of the data\n",
        "df.describe()"
      ],
      "execution_count": 17,
      "outputs": [
        {
          "output_type": "execute_result",
          "data": {
            "text/html": [
              "<div>\n",
              "<style scoped>\n",
              "    .dataframe tbody tr th:only-of-type {\n",
              "        vertical-align: middle;\n",
              "    }\n",
              "\n",
              "    .dataframe tbody tr th {\n",
              "        vertical-align: top;\n",
              "    }\n",
              "\n",
              "    .dataframe thead th {\n",
              "        text-align: right;\n",
              "    }\n",
              "</style>\n",
              "<table border=\"1\" class=\"dataframe\">\n",
              "  <thead>\n",
              "    <tr style=\"text-align: right;\">\n",
              "      <th></th>\n",
              "      <th>status</th>\n",
              "      <th>age</th>\n",
              "      <th>sex</th>\n",
              "      <th>on_thyroxine</th>\n",
              "      <th>query_on_thyroxine</th>\n",
              "      <th>on_antithyroid_medication</th>\n",
              "      <th>thyroid_surgery</th>\n",
              "      <th>query_hypothyroid</th>\n",
              "      <th>query_hyperthyroid</th>\n",
              "      <th>pregnant</th>\n",
              "      <th>sick</th>\n",
              "      <th>tumor</th>\n",
              "      <th>lithium</th>\n",
              "      <th>goitre</th>\n",
              "      <th>TSH_measured</th>\n",
              "      <th>TSH</th>\n",
              "      <th>T3_measured</th>\n",
              "      <th>T3</th>\n",
              "      <th>TT4_measured</th>\n",
              "      <th>TT4</th>\n",
              "      <th>T4U_measured</th>\n",
              "      <th>T4U</th>\n",
              "      <th>FTI_measured</th>\n",
              "      <th>FTI</th>\n",
              "      <th>TBG_measured</th>\n",
              "      <th>TBG</th>\n",
              "    </tr>\n",
              "  </thead>\n",
              "  <tbody>\n",
              "    <tr>\n",
              "      <th>count</th>\n",
              "      <td>3086</td>\n",
              "      <td>3086</td>\n",
              "      <td>3086</td>\n",
              "      <td>3086</td>\n",
              "      <td>3086</td>\n",
              "      <td>3086</td>\n",
              "      <td>3086</td>\n",
              "      <td>3086</td>\n",
              "      <td>3086</td>\n",
              "      <td>3086</td>\n",
              "      <td>3086</td>\n",
              "      <td>3086</td>\n",
              "      <td>3086</td>\n",
              "      <td>3086</td>\n",
              "      <td>3086</td>\n",
              "      <td>3086</td>\n",
              "      <td>3086</td>\n",
              "      <td>3086</td>\n",
              "      <td>3086</td>\n",
              "      <td>3086</td>\n",
              "      <td>3086</td>\n",
              "      <td>3086</td>\n",
              "      <td>3086</td>\n",
              "      <td>3086</td>\n",
              "      <td>3086</td>\n",
              "      <td>3086</td>\n",
              "    </tr>\n",
              "    <tr>\n",
              "      <th>unique</th>\n",
              "      <td>2</td>\n",
              "      <td>93</td>\n",
              "      <td>3</td>\n",
              "      <td>2</td>\n",
              "      <td>2</td>\n",
              "      <td>2</td>\n",
              "      <td>2</td>\n",
              "      <td>2</td>\n",
              "      <td>2</td>\n",
              "      <td>2</td>\n",
              "      <td>2</td>\n",
              "      <td>2</td>\n",
              "      <td>2</td>\n",
              "      <td>2</td>\n",
              "      <td>2</td>\n",
              "      <td>240</td>\n",
              "      <td>2</td>\n",
              "      <td>70</td>\n",
              "      <td>2</td>\n",
              "      <td>269</td>\n",
              "      <td>2</td>\n",
              "      <td>159</td>\n",
              "      <td>2</td>\n",
              "      <td>281</td>\n",
              "      <td>2</td>\n",
              "      <td>53</td>\n",
              "    </tr>\n",
              "    <tr>\n",
              "      <th>top</th>\n",
              "      <td>negative</td>\n",
              "      <td>?</td>\n",
              "      <td>F</td>\n",
              "      <td>f</td>\n",
              "      <td>f</td>\n",
              "      <td>f</td>\n",
              "      <td>f</td>\n",
              "      <td>f</td>\n",
              "      <td>f</td>\n",
              "      <td>f</td>\n",
              "      <td>f</td>\n",
              "      <td>f</td>\n",
              "      <td>f</td>\n",
              "      <td>f</td>\n",
              "      <td>y</td>\n",
              "      <td>0</td>\n",
              "      <td>y</td>\n",
              "      <td>?</td>\n",
              "      <td>y</td>\n",
              "      <td>?</td>\n",
              "      <td>y</td>\n",
              "      <td>?</td>\n",
              "      <td>y</td>\n",
              "      <td>?</td>\n",
              "      <td>n</td>\n",
              "      <td>?</td>\n",
              "    </tr>\n",
              "    <tr>\n",
              "      <th>freq</th>\n",
              "      <td>2945</td>\n",
              "      <td>438</td>\n",
              "      <td>2119</td>\n",
              "      <td>2640</td>\n",
              "      <td>3031</td>\n",
              "      <td>3044</td>\n",
              "      <td>2983</td>\n",
              "      <td>2851</td>\n",
              "      <td>2851</td>\n",
              "      <td>3025</td>\n",
              "      <td>2989</td>\n",
              "      <td>3046</td>\n",
              "      <td>3084</td>\n",
              "      <td>2990</td>\n",
              "      <td>2631</td>\n",
              "      <td>893</td>\n",
              "      <td>2406</td>\n",
              "      <td>680</td>\n",
              "      <td>2846</td>\n",
              "      <td>240</td>\n",
              "      <td>2847</td>\n",
              "      <td>239</td>\n",
              "      <td>2848</td>\n",
              "      <td>238</td>\n",
              "      <td>2835</td>\n",
              "      <td>2835</td>\n",
              "    </tr>\n",
              "  </tbody>\n",
              "</table>\n",
              "</div>"
            ],
            "text/plain": [
              "          status   age   sex on_thyroxine  ... FTI_measured   FTI TBG_measured   TBG\n",
              "count       3086  3086  3086         3086  ...         3086  3086         3086  3086\n",
              "unique         2    93     3            2  ...            2   281            2    53\n",
              "top     negative     ?     F            f  ...            y     ?            n     ?\n",
              "freq        2945   438  2119         2640  ...         2848   238         2835  2835\n",
              "\n",
              "[4 rows x 26 columns]"
            ]
          },
          "metadata": {
            "tags": []
          },
          "execution_count": 17
        }
      ]
    },
    {
      "cell_type": "code",
      "metadata": {
        "id": "4HZJuU8tyxaa",
        "colab_type": "code",
        "colab": {}
      },
      "source": [
        ""
      ],
      "execution_count": 0,
      "outputs": []
    }
  ]
}